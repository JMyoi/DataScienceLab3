{
 "cells": [
  {
   "cell_type": "markdown",
   "id": "e23f5841-1ed7-4ab7-ad5f-eacbd3ae683d",
   "metadata": {},
   "source": [
    "1. Write a Pandas program to join the two given dataframes along rows and assign all data.\n",
    "Test Data:\n",
    "student_data1:\n",
    "  student_id              name  marks\n",
    "0         S1  Danniella Fenton    200\n",
    "1         S2      Ryder Storey    210\n",
    "2         S3      Bryce Jensen    190\n",
    "3         S4         Ed Bernal    222\n",
    "4         S5       Kwame Morin    199\n",
    "\n",
    "student_data2:\n",
    "  student_id              name  marks\n",
    "0         S4  Scarlette Fisher    201\n",
    "1         S5  Carla Williamson    200\n",
    "2         S6       Dante Morse    198\n",
    "3         S7    Kaiser William    219\n",
    "4         S8   Madeeha Preston    201"
   ]
  },
  {
   "cell_type": "code",
   "execution_count": 1,
   "id": "initial_id",
   "metadata": {},
   "outputs": [
    {
     "name": "stdout",
     "output_type": "stream",
     "text": [
      "  student_id              name  marks\n",
      "0         S1  Danniella Fenton    200\n",
      "1         S2      Ryder Storey    210\n",
      "2         S3      Bryce Jensen    190\n",
      "3         S4         Ed Bernal    222\n",
      "4         S5       Kwame Morin    199\n",
      "0         S4  Scarlette Fisher    201\n",
      "1         S5  Carla Williamson    200\n",
      "2         S6       Dante Morse    198\n",
      "3         S7    Kaiser William    219\n",
      "4         S8   Madeeha Preston    201\n"
     ]
    }
   ],
   "source": [
    "import pandas as pd\n",
    "\n",
    "student_data1 = pd.DataFrame({\n",
    "    'student_id': ['S1', 'S2', 'S3', 'S4', 'S5'],\n",
    "    'name': ['Danniella Fenton', 'Ryder Storey', 'Bryce Jensen', 'Ed Bernal', 'Kwame Morin'],\n",
    "    'marks': [200, 210, 190, 222, 199]\n",
    "})\n",
    "\n",
    "student_data2 = pd.DataFrame({\n",
    "    'student_id': ['S4', 'S5', 'S6', 'S7', 'S8'],\n",
    "    'name': ['Scarlette Fisher', 'Carla Williamson', 'Dante Morse', 'Kaiser William', 'Madeeha Preston'],\n",
    "    'marks': [201, 200, 198, 219, 201]\n",
    "})\n",
    "\n",
    "all_data = pd.concat([student_data1, student_data2], axis=0)\n",
    "\n",
    "print(all_data)"
   ]
  },
  {
   "cell_type": "markdown",
   "id": "28990c6a-1354-401c-a736-5c2086ef775e",
   "metadata": {},
   "source": [
    "2. Write a Pandas program to join the two given dataframes along columns and assign all data.\n",
    "Test Data:\n",
    "student_data1:\n",
    "  student_id              name  marks\n",
    "0         S1  Danniella Fenton    200\n",
    "1         S2      Ryder Storey    210\n",
    "2         S3      Bryce Jensen    190\n",
    "3         S4         Ed Bernal    222\n",
    "4         S5       Kwame Morin    199\n",
    "\n",
    "student_data2:\n",
    "  student_id              name  marks\n",
    "0         S4  Scarlette Fisher    201\n",
    "1         S5  Carla Williamson    200\n",
    "2         S6       Dante Morse    198\n",
    "3         S7    Kaiser William    219\n",
    "4         S8   Madeeha Preston    201"
   ]
  },
  {
   "cell_type": "code",
   "execution_count": 2,
   "id": "1179b733-86fb-4deb-84db-e94a830f05fe",
   "metadata": {},
   "outputs": [
    {
     "name": "stdout",
     "output_type": "stream",
     "text": [
      "  student_id              name  marks student_id              name  marks\n",
      "0         S1  Danniella Fenton    200         S4  Scarlette Fisher    201\n",
      "1         S2      Ryder Storey    210         S5  Carla Williamson    200\n",
      "2         S3      Bryce Jensen    190         S6       Dante Morse    198\n",
      "3         S4         Ed Bernal    222         S7    Kaiser William    219\n",
      "4         S5       Kwame Morin    199         S8   Madeeha Preston    201\n"
     ]
    }
   ],
   "source": [
    "import pandas as pd\n",
    "\n",
    "student_data1 = pd.DataFrame({\n",
    "    'student_id': ['S1', 'S2', 'S3', 'S4', 'S5'],\n",
    "    'name': ['Danniella Fenton', 'Ryder Storey', 'Bryce Jensen', 'Ed Bernal', 'Kwame Morin'],\n",
    "    'marks': [200, 210, 190, 222, 199]\n",
    "})\n",
    "\n",
    "student_data2 = pd.DataFrame({\n",
    "    'student_id': ['S4', 'S5', 'S6', 'S7', 'S8'],\n",
    "    'name': ['Scarlette Fisher', 'Carla Williamson', 'Dante Morse', 'Kaiser William', 'Madeeha Preston'],\n",
    "    'marks': [201, 200, 198, 219, 201]\n",
    "})\n",
    "\n",
    "all_data_columns = pd.concat([student_data1, student_data2], axis=1)\n",
    "\n",
    "print(all_data_columns)"
   ]
  },
  {
   "cell_type": "markdown",
   "id": "f5b2afa1-d758-4888-a34a-c31689a05d38",
   "metadata": {},
   "source": [
    "3. Write a Pandas program to append rows to an existing DataFrame and display the combined data.\n",
    "Test Data:\n",
    "tudent_data1\n",
    "  student_id              name  marks\n",
    "0         S1  Danniella Fenton    200\n",
    "1         S2      Ryder Storey    210\n",
    "2         S3      Bryce Jensen    190\n",
    "3         S4         Ed Bernal    222\n",
    "4         S5       Kwame Morin    199\n",
    "\n",
    "New Row(s)\n",
    "student_id                  S6\n",
    "name          Scarlette Fisher\n",
    "marks                      205\n",
    "dtype: object"
   ]
  },
  {
   "cell_type": "code",
   "execution_count": 5,
   "id": "e5c14841-7732-4e98-9854-25e343d8f78a",
   "metadata": {},
   "outputs": [
    {
     "name": "stdout",
     "output_type": "stream",
     "text": [
      "  student_id              name  marks\n",
      "0         S1  Danniella Fenton    200\n",
      "1         S2      Ryder Storey    210\n",
      "2         S3      Bryce Jensen    190\n",
      "3         S4         Ed Bernal    222\n",
      "4         S5       Kwame Morin    199\n",
      "5         S6  Scarlette Fisher    205\n"
     ]
    }
   ],
   "source": [
    "import pandas as pd\n",
    "\n",
    "student_data1 = pd.DataFrame({\n",
    "    'student_id': ['S1', 'S2', 'S3', 'S4', 'S5'],\n",
    "    'name': ['Danniella Fenton', 'Ryder Storey', 'Bryce Jensen', 'Ed Bernal', 'Kwame Morin'],\n",
    "    'marks': [200, 210, 190, 222, 199]\n",
    "})\n",
    "\n",
    "new_row = pd.DataFrame({\n",
    "    'student_id': ['S6'],\n",
    "    'name': ['Scarlette Fisher'],\n",
    "    'marks': [205]\n",
    "})\n",
    "\n",
    "student_data1 = pd.concat([student_data1, new_row], ignore_index=True)\n",
    "\n",
    "print(student_data1)"
   ]
  },
  {
   "cell_type": "markdown",
   "id": "143e51b9-8afb-47ef-ba2d-27da22dba522",
   "metadata": {},
   "source": [
    "4. Write a Pandas program to append a list of dictioneries or series to a existing DataFrame and display the combined data.\n",
    "Test Data:\n",
    " student_id              name  marks\n",
    "0         S1  Danniella Fenton    200\n",
    "1         S2      Ryder Storey    210\n",
    "2         S3      Bryce Jensen    190\n",
    "3         S4         Ed Bernal    222\n",
    "4         S5       Kwame Morin    199\n",
    "\n",
    "Dictionary:\n",
    "student_id                  S6\n",
    "name          Scarlette Fisher\n",
    "marks                      205\n",
    "dtype: object"
   ]
  },
  {
   "cell_type": "code",
   "execution_count": 6,
   "id": "93c3cef6-f6e4-44e8-8e3b-9a222271cce6",
   "metadata": {},
   "outputs": [
    {
     "name": "stdout",
     "output_type": "stream",
     "text": [
      "  student_id              name  marks\n",
      "0         S1  Danniella Fenton    200\n",
      "1         S2      Ryder Storey    210\n",
      "2         S3      Bryce Jensen    190\n",
      "3         S4         Ed Bernal    222\n",
      "4         S5       Kwame Morin    199\n",
      "5         S6  Scarlette Fisher    205\n"
     ]
    }
   ],
   "source": [
    "import pandas as pd\n",
    "\n",
    "student_data1 = pd.DataFrame({\n",
    "    'student_id': ['S1', 'S2', 'S3', 'S4', 'S5'],\n",
    "    'name': ['Danniella Fenton', 'Ryder Storey', 'Bryce Jensen', 'Ed Bernal', 'Kwame Morin'],\n",
    "    'marks': [200, 210, 190, 222, 199]\n",
    "})\n",
    "\n",
    "new_data = [\n",
    "    {'student_id': 'S6', 'name': 'Scarlette Fisher', 'marks': 205}\n",
    "]\n",
    "\n",
    "student_data1 = pd.concat([student_data1, pd.DataFrame(new_data)], ignore_index=True)\n",
    "\n",
    "print(student_data1)"
   ]
  },
  {
   "cell_type": "markdown",
   "id": "239474a1-f61f-4105-98a2-385dba833c5c",
   "metadata": {},
   "source": [
    "5. Write a Pandas program to join the two given dataframes along rows and merge with another dataframe along the common column id.\n",
    "Test Data:\n",
    "student_data1:\n",
    "  student_id              name  marks\n",
    "0         S1  Danniella Fenton    200\n",
    "1         S2      Ryder Storey    210\n",
    "2         S3      Bryce Jensen    190\n",
    "3         S4         Ed Bernal    222\n",
    "4         S5       Kwame Morin    199\n",
    "\n",
    "student_data2:\n",
    "  student_id              name  marks\n",
    "0         S4  Scarlette Fisher    201\n",
    "1         S5  Carla Williamson    200\n",
    "2         S6       Dante Morse    198\n",
    "3         S7    Kaiser William    219\n",
    "4         S8   Madeeha Preston    201\n",
    "\n",
    "exam_data:\n",
    "   student_id  exam_id\n",
    "0          S1       23\n",
    "1          S2       45\n",
    "2          S3       12\n",
    "3          S4       67\n",
    "4          S5       21\n",
    "5          S7       55\n",
    "6          S8       33\n",
    "7          S9       14\n",
    "8         S10       56\n",
    "9         S11       83\n",
    "10        S12       88\n",
    "11        S13       12"
   ]
  },
  {
   "cell_type": "code",
   "execution_count": 7,
   "id": "c0e463d1-52ab-491a-a19a-f277089130c9",
   "metadata": {},
   "outputs": [
    {
     "name": "stdout",
     "output_type": "stream",
     "text": [
      "  student_id              name  marks  exam_id\n",
      "0         S1  Danniella Fenton    200       23\n",
      "1         S2      Ryder Storey    210       45\n",
      "2         S3      Bryce Jensen    190       12\n",
      "3         S4         Ed Bernal    222       67\n",
      "4         S5       Kwame Morin    199       21\n",
      "5         S4  Scarlette Fisher    201       67\n",
      "6         S5  Carla Williamson    200       21\n",
      "7         S7    Kaiser William    219       55\n",
      "8         S8   Madeeha Preston    201       33\n"
     ]
    }
   ],
   "source": [
    "import pandas as pd\n",
    "\n",
    "student_data1 = pd.DataFrame({\n",
    "    'student_id': ['S1', 'S2', 'S3', 'S4', 'S5'],\n",
    "    'name': ['Danniella Fenton', 'Ryder Storey', 'Bryce Jensen', 'Ed Bernal', 'Kwame Morin'],\n",
    "    'marks': [200, 210, 190, 222, 199]\n",
    "})\n",
    "\n",
    "student_data2 = pd.DataFrame({\n",
    "    'student_id': ['S4', 'S5', 'S6', 'S7', 'S8'],\n",
    "    'name': ['Scarlette Fisher', 'Carla Williamson', 'Dante Morse', 'Kaiser William', 'Madeeha Preston'],\n",
    "    'marks': [201, 200, 198, 219, 201]\n",
    "})\n",
    "\n",
    "exam_data = pd.DataFrame({\n",
    "    'student_id': ['S1', 'S2', 'S3', 'S4', 'S5', 'S7', 'S8', 'S9', 'S10', 'S11', 'S12', 'S13'],\n",
    "    'exam_id': [23, 45, 12, 67, 21, 55, 33, 14, 56, 83, 88, 12]\n",
    "})\n",
    "\n",
    "all_students = pd.concat([student_data1, student_data2], axis=0)\n",
    "merged_data = pd.merge(all_students, exam_data, on='student_id', how='inner')\n",
    "\n",
    "print(merged_data)"
   ]
  },
  {
   "cell_type": "markdown",
   "id": "795e8915-a811-45b3-85c8-1e15ba59bed3",
   "metadata": {},
   "source": [
    "6. Write a Pandas program to join the two dataframes using the common column of both dataframes.\n",
    "Test Data:\n",
    "student_data1:\n",
    "  student_id              name  marks\n",
    "0         S1  Danniella Fenton    200\n",
    "1         S2      Ryder Storey    210\n",
    "2         S3      Bryce Jensen    190\n",
    "3         S4         Ed Bernal    222\n",
    "4         S5       Kwame Morin    199\n",
    "\n",
    "student_data2:\n",
    "  student_id              name  marks\n",
    "0         S4  Scarlette Fisher    201\n",
    "1         S5  Carla Williamson    200\n",
    "2         S6       Dante Morse    198\n",
    "3         S7    Kaiser William    219\n",
    "4         S8   Madeeha Preston    201"
   ]
  },
  {
   "cell_type": "code",
   "execution_count": 8,
   "id": "0e7c2d41-e565-4739-9266-ef83c604f130",
   "metadata": {},
   "outputs": [
    {
     "name": "stdout",
     "output_type": "stream",
     "text": [
      "  student_id       name_1  marks_1            name_2  marks_2\n",
      "0         S4    Ed Bernal      222  Scarlette Fisher      201\n",
      "1         S5  Kwame Morin      199  Carla Williamson      200\n"
     ]
    }
   ],
   "source": [
    "import pandas as pd\n",
    "\n",
    "student_data2_corrected = pd.DataFrame({\n",
    "    'student_id': ['S4', 'S5', 'S6', 'S7', 'S8'],\n",
    "    'name': ['Scarlette Fisher', 'Carla Williamson', 'Dante Morse', 'Kaiser William', 'Madeeh'],\n",
    "    'marks': [201, 200, 198, 219, 0] \n",
    "})\n",
    "\n",
    "joined_data_corrected = pd.merge(student_data1.drop_duplicates(subset=['student_id']), \n",
    "                                 student_data2_corrected, on='student_id', how='inner', suffixes=('_1', '_2'))\n",
    "\n",
    "print(joined_data_corrected)"
   ]
  },
  {
   "cell_type": "markdown",
   "id": "9756bb67-766f-403f-b4a8-87380b0f95fc",
   "metadata": {},
   "source": [
    "7. Write a Pandas program to join the two dataframes with matching records from both sides where available.\n",
    "Test Data:\n",
    "student_data1:\n",
    "  student_id              name  marks\n",
    "0         S1  Danniella Fenton    200\n",
    "1         S2      Ryder Storey    210\n",
    "2         S3      Bryce Jensen    190\n",
    "3         S4         Ed Bernal    222\n",
    "4         S5       Kwame Morin    199\n",
    "\n",
    "student_data2:\n",
    "  student_id              name  marks\n",
    "0         S4  Scarlette Fisher    201\n",
    "1         S5  Carla Williamson    200\n",
    "2         S6       Dante Morse    198\n",
    "3         S7    Kaiser William    219\n",
    "4         S8   Madeeha Preston    201"
   ]
  },
  {
   "cell_type": "code",
   "execution_count": 9,
   "id": "55b40c35-d0e0-4e27-a7a3-a2ecc216ade1",
   "metadata": {},
   "outputs": [
    {
     "name": "stdout",
     "output_type": "stream",
     "text": [
      "  student_id            name_1  marks_1            name_2  marks_2\n",
      "0         S1  Danniella Fenton    200.0               NaN      NaN\n",
      "1         S2      Ryder Storey    210.0               NaN      NaN\n",
      "2         S3      Bryce Jensen    190.0               NaN      NaN\n",
      "3         S4         Ed Bernal    222.0  Scarlette Fisher    201.0\n",
      "4         S5       Kwame Morin    199.0  Carla Williamson    200.0\n",
      "5         S6               NaN      NaN       Dante Morse    198.0\n",
      "6         S7               NaN      NaN    Kaiser William    219.0\n",
      "7         S8               NaN      NaN   Madeeha Preston    201.0\n"
     ]
    }
   ],
   "source": [
    "import pandas as pd\n",
    "\n",
    "student_data1 = pd.DataFrame({\n",
    "    'student_id': ['S1', 'S2', 'S3', 'S4', 'S5'],\n",
    "    'name': ['Danniella Fenton', 'Ryder Storey', 'Bryce Jensen', 'Ed Bernal', 'Kwame Morin'],\n",
    "    'marks': [200, 210, 190, 222, 199]\n",
    "})\n",
    "\n",
    "student_data2 = pd.DataFrame({\n",
    "    'student_id': ['S4', 'S5', 'S6', 'S7', 'S8'],\n",
    "    'name': ['Scarlette Fisher', 'Carla Williamson', 'Dante Morse', 'Kaiser William', 'Madeeha Preston'],\n",
    "    'marks': [201, 200, 198, 219, 201]\n",
    "})\n",
    "\n",
    "joined_data_outer_corrected = pd.merge(student_data1, student_data2, on='student_id', how='outer', suffixes=('_1', '_2'))\n",
    "\n",
    "print(joined_data_outer_corrected)"
   ]
  },
  {
   "cell_type": "markdown",
   "id": "d7567673-7e85-47dc-9063-b5116beb88aa",
   "metadata": {},
   "source": [
    "8. Write a Pandas program to join (left join) the two dataframes using keys from left dataframe only.\n",
    "Test Data:\n",
    "data1:\n",
    "  key1 key2   P   Q\n",
    "0   K0   K0  P0  Q0\n",
    "1   K0   K1  P1  Q1\n",
    "2   K1   K0  P2  Q2\n",
    "3   K2   K1  P3  Q3\n",
    "\n",
    "data2:\n",
    "  key1 key2   R   S\n",
    "0   K0   K0  R0  S0\n",
    "1   K1   K0  R1  S1\n",
    "2   K1   K0  R2  S2\n",
    "3   K2   K0  R3  S3\n"
   ]
  },
  {
   "cell_type": "code",
   "execution_count": 10,
   "id": "e0ce94f8-9bcf-4bd6-9390-acfe1714002f",
   "metadata": {},
   "outputs": [
    {
     "name": "stdout",
     "output_type": "stream",
     "text": [
      "  key1 key2   P   Q    R    S\n",
      "0   K0   K0  P0  Q0   R0   S0\n",
      "1   K0   K1  P1  Q1  NaN  NaN\n",
      "2   K1   K0  P2  Q2   R1   S1\n",
      "3   K1   K0  P2  Q2   R2   S2\n",
      "4   K2   K1  P3  Q3  NaN  NaN\n"
     ]
    }
   ],
   "source": [
    "import pandas as pd\n",
    "\n",
    "data1 = pd.DataFrame({\n",
    "    'key1': ['K0', 'K0', 'K1', 'K2'],\n",
    "    'key2': ['K0', 'K1', 'K0', 'K1'],\n",
    "    'P': ['P0', 'P1', 'P2', 'P3'],\n",
    "    'Q': ['Q0', 'Q1', 'Q2', 'Q3']\n",
    "})\n",
    "\n",
    "data2 = pd.DataFrame({\n",
    "    'key1': ['K0', 'K1', 'K1', 'K2'],\n",
    "    'key2': ['K0', 'K0', 'K0', 'K0'],\n",
    "    'R': ['R0', 'R1', 'R2', 'R3'],\n",
    "    'S': ['S0', 'S1', 'S2', 'S3']\n",
    "})\n",
    "\n",
    "left_joined_data = pd.merge(data1, data2, on=['key1', 'key2'], how='left')\n",
    "\n",
    "print(left_joined_data)"
   ]
  },
  {
   "cell_type": "markdown",
   "id": "3dd27d9f-1e25-4e30-a083-661aa4b8a1ae",
   "metadata": {},
   "source": [
    "9. Write a Pandas program to join two dataframes using keys from right dataframe only.\n",
    "Test Data:\n",
    "data1:\n",
    "  key1 key2   P   Q\n",
    "0   K0   K0  P0  Q0\n",
    "1   K0   K1  P1  Q1\n",
    "2   K1   K0  P2  Q2\n",
    "3   K2   K1  P3  Q3\n",
    "\n",
    "data2:\n",
    "  key1 key2   R   S\n",
    "0   K0   K0  R0  S0\n",
    "1   K1   K0  R1  S1\n",
    "2   K1   K0  R2  S2\n",
    "3   K2   K0  R3  S3"
   ]
  },
  {
   "cell_type": "code",
   "execution_count": null,
   "id": "6f8d6f52-0f85-4ee1-a01a-0e6d2ed170c2",
   "metadata": {},
   "outputs": [],
   "source": [
    "import pandas as pd\n",
    "\n",
    "data1 = pd.DataFrame({\n",
    "    'key1': ['K0', 'K0', 'K1', 'K2'],\n",
    "    'key2': ['K0', 'K1', 'K0', 'K1'],\n",
    "    'P': ['P0', 'P1', 'P2', 'P3'],\n",
    "    'Q': ['Q0', 'Q1', 'Q2', 'Q3']\n",
    "})\n",
    "\n",
    "data2 = pd.DataFrame({\n",
    "    'key1': ['K0', 'K1', 'K1', 'K2'],\n",
    "    'key2': ['K0', 'K0', 'K0', 'K0'],\n",
    "    'R': ['R0', 'R1', 'R2', 'R3'],\n",
    "    'S': ['S0', 'S1', 'S2', 'S3']\n",
    "})\n",
    "\n",
    "right_joined_data = pd.merge(data1, data2, on=['key1', 'key2'], how='right')\n",
    "\n",
    "print(right_joined_data)"
   ]
  },
  {
   "cell_type": "markdown",
   "id": "0fb172d4-661b-4bff-abb0-bc7983b77658",
   "metadata": {},
   "source": [
    "10. Write a Pandas program to merge two given datasets using multiple join keys.\n",
    "Test Data:\n",
    "data1:\n",
    "  key1 key2   P   Q\n",
    "0   K0   K0  P0  Q0\n",
    "1   K0   K1  P1  Q1\n",
    "2   K1   K0  P2  Q2\n",
    "3   K2   K1  P3  Q3\n",
    "\n",
    "data2:\n",
    "  key1 key2   R   S\n",
    "0   K0   K0  R0  S0\n",
    "1   K1   K0  R1  S1\n",
    "2   K1   K0  R2  S2\n",
    "3   K2   K0  R3  S3"
   ]
  },
  {
   "cell_type": "code",
   "execution_count": null,
   "id": "8b07d7f5-d7a0-4d8e-9dde-b2be079c9172",
   "metadata": {},
   "outputs": [],
   "source": [
    "import pandas as pd\n",
    "\n",
    "data1 = pd.DataFrame({\n",
    "    'key1': ['K0', 'K0', 'K1', 'K2'],\n",
    "    'key2': ['K0', 'K1', 'K0', 'K1'],\n",
    "    'P': ['P0', 'P1', 'P2', 'P3'],\n",
    "    'Q': ['Q0', 'Q1', 'Q2', 'Q3']\n",
    "})\n",
    "\n",
    "data2 = pd.DataFrame({\n",
    "    'key1': ['K0', 'K1', 'K1', 'K2'],\n",
    "    'key2': ['K0', 'K0', 'K0', 'K0'],\n",
    "    'R': ['R0', 'R1', 'R2', 'R3'],\n",
    "    'S': ['S0', 'S1', 'S2', 'S3']\n",
    "})\n",
    "\n",
    "merged_data_multiple_keys = pd.merge(data1, data2, on=['key1', 'key2'], how='inner')\n",
    "\n",
    "print(merged_data_multiple_keys)"
   ]
  },
  {
   "cell_type": "markdown",
   "id": "b7c753fc-277a-4c70-9993-07b89859ef06",
   "metadata": {},
   "source": [
    "11. Write a Pandas program to create a new DataFrame based on existing series, using specified argument and override the existing columns names."
   ]
  },
  {
   "cell_type": "code",
   "execution_count": null,
   "id": "7c92a7f7-bf42-4e84-a82d-ecbd1c4dc55d",
   "metadata": {},
   "outputs": [],
   "source": [
    "import pandas as pd\n",
    "\n",
    "series1 = pd.Series([100, 200, 300], name='A')\n",
    "series2 = pd.Series([101, 201, 301], name='B')\n",
    "\n",
    "new_df = pd.DataFrame({series1.name: series1, series2.name: series2})\n",
    "new_df.columns = ['Column1', 'Column2']\n",
    "\n",
    "print(new_df)"
   ]
  },
  {
   "cell_type": "markdown",
   "id": "79eeee79-35e9-4c2d-86ee-d28e0ea81733",
   "metadata": {},
   "source": [
    "12. Write a Pandas program to create a combination from two dataframes where a column id combination appears more than once in both dataframes.\n",
    "Test Data:\n",
    "data1:\n",
    "  key1 key2   P   Q\n",
    "0   K0   K0  P0  Q0\n",
    "1   K0   K1  P1  Q1\n",
    "2   K1   K0  P2  Q2\n",
    "3   K2   K1  P3  Q3\n",
    "\n",
    "data2:\n",
    "  key1 key2   R   S\n",
    "0   K0   K0  R0  S0\n",
    "1   K1   K0  R1  S1\n",
    "2   K1   K0  R2  S2\n",
    "3   K2   K0  R3  S3\n"
   ]
  },
  {
   "cell_type": "code",
   "execution_count": null,
   "id": "6d29a07c-dd03-4da7-964c-269d90418f04",
   "metadata": {},
   "outputs": [],
   "source": []
  },
  {
   "cell_type": "markdown",
   "id": "b12ead6f-e0a4-4f55-833d-5ad8a9a60630",
   "metadata": {},
   "source": [
    "13. Write a Pandas program to combine the columns of two potentially differently-indexed DataFrames into a single result DataFrame.\n",
    "Test Data:\n",
    "data1:\n",
    "     A   B\n",
    "K0  A0  B0\n",
    "K1  A1  B1\n",
    "K2  A2  B2\n",
    "\n",
    "data2:\n",
    "     C   D\n",
    "K0  C0  D0\n",
    "K2  C2  D2\n",
    "K3  C3  D3"
   ]
  },
  {
   "cell_type": "code",
   "execution_count": null,
   "id": "b1495d0e-e0e6-4a0e-8069-0d4f5a6b3a6b",
   "metadata": {},
   "outputs": [],
   "source": []
  },
  {
   "cell_type": "markdown",
   "id": "e52eb12c-eadb-4a2a-8ad0-ad15b631d0f2",
   "metadata": {},
   "source": [
    "14. Write a Pandas program to merge two given dataframes with different columns.\n",
    "Test Data:\n",
    "data1:\n",
    "  key1 key2   P   Q\n",
    "0   K0   K0  P0  Q0\n",
    "1   K0   K1  P1  Q1\n",
    "2   K1   K0  P2  Q2\n",
    "3   K2   K1  P3  Q3\n",
    "\n",
    "data2:\n",
    "  key1 key2   R   S\n",
    "0   K0   K0  R0  S0\n",
    "1   K1   K0  R1  S1\n",
    "2   K1   K0  R2  S2\n",
    "3   K2   K0  R3  S3\n"
   ]
  },
  {
   "cell_type": "code",
   "execution_count": null,
   "id": "c23bee1f-62e3-4d53-9194-52d7806fcaef",
   "metadata": {},
   "outputs": [],
   "source": []
  },
  {
   "cell_type": "markdown",
   "id": "9638caa3-4af4-4ea1-9cde-85357c17cb3b",
   "metadata": {},
   "source": [
    "15. Write a Pandas program to Combine two DataFrame objects by filling null values in one DataFrame with non-null values from other DataFrame.\n",
    "Test Data:\n",
    "Original DataFrames:\n",
    "     A  B\n",
    "0  NaN  3\n",
    "1  0.0  4\n",
    "2  NaN  5\n",
    "\n",
    "  A    B\n",
    "0  1  3.0\n",
    "1  1  NaN\n",
    "2  3  3.0\n"
   ]
  },
  {
   "cell_type": "code",
   "execution_count": null,
   "id": "90af24ef-42ad-49a0-8886-bd6c1145ecc5",
   "metadata": {},
   "outputs": [],
   "source": []
  }
 ],
 "metadata": {
  "kernelspec": {
   "display_name": "Python 3 (ipykernel)",
   "language": "python",
   "name": "python3"
  },
  "language_info": {
   "codemirror_mode": {
    "name": "ipython",
    "version": 3
   },
   "file_extension": ".py",
   "mimetype": "text/x-python",
   "name": "python",
   "nbconvert_exporter": "python",
   "pygments_lexer": "ipython3",
   "version": "3.12.1"
  }
 },
 "nbformat": 4,
 "nbformat_minor": 5
}
